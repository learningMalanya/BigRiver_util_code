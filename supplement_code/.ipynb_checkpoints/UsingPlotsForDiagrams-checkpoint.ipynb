{
 "cells": [
  {
   "cell_type": "markdown",
   "id": "fe75be98-5dbc-4c51-bf87-77c9e858babb",
   "metadata": {},
   "source": [
    "# Using Plots for Diagrams\n",
    "___\n",
    "This notebooks explores how draw diagrams using Plots."
   ]
  },
  {
   "cell_type": "code",
   "execution_count": 2,
   "id": "b166a6b5-292f-495a-9351-bcf0139e14c7",
   "metadata": {
    "tags": []
   },
   "outputs": [],
   "source": [
    "using Plots"
   ]
  },
  {
   "cell_type": "markdown",
   "id": "bee2ded8-e55d-4c18-be44-8ea763de73d0",
   "metadata": {
    "tags": []
   },
   "source": [
    "## Functions"
   ]
  },
  {
   "cell_type": "markdown",
   "id": "95630153-6010-49e4-8759-2016d585d5eb",
   "metadata": {},
   "source": [
    "### Customized Shape"
   ]
  },
  {
   "cell_type": "code",
   "execution_count": 3,
   "id": "f49a345c-4130-4167-aea0-07b8cd216426",
   "metadata": {
    "tags": []
   },
   "outputs": [],
   "source": [
    "struct Matshape\n",
    "    w\n",
    "    h\n",
    "    x\n",
    "    y\n",
    "end"
   ]
  },
  {
   "cell_type": "code",
   "execution_count": 17,
   "id": "aae8bcf5-ed99-4345-b300-50bf4d304a46",
   "metadata": {},
   "outputs": [
    {
     "name": "stdout",
     "output_type": "stream",
     "text": [
      "search: \u001b[0m\u001b[1mS\u001b[22m\u001b[0m\u001b[1mh\u001b[22m\u001b[0m\u001b[1ma\u001b[22m\u001b[0m\u001b[1mp\u001b[22m\u001b[0m\u001b[1me\u001b[22m \u001b[0m\u001b[1ms\u001b[22m\u001b[0m\u001b[1mh\u001b[22m\u001b[0m\u001b[1ma\u001b[22m\u001b[0m\u001b[1mp\u001b[22m\u001b[0m\u001b[1me\u001b[22m_coords re\u001b[0m\u001b[1ms\u001b[22m\u001b[0m\u001b[1mh\u001b[22m\u001b[0m\u001b[1ma\u001b[22m\u001b[0m\u001b[1mp\u001b[22m\u001b[0m\u001b[1me\u001b[22m Mat\u001b[0m\u001b[1ms\u001b[22m\u001b[0m\u001b[1mh\u001b[22m\u001b[0m\u001b[1ma\u001b[22m\u001b[0m\u001b[1mp\u001b[22m\u001b[0m\u001b[1me\u001b[22m promote_\u001b[0m\u001b[1ms\u001b[22m\u001b[0m\u001b[1mh\u001b[22m\u001b[0m\u001b[1ma\u001b[22m\u001b[0m\u001b[1mp\u001b[22m\u001b[0m\u001b[1me\u001b[22m plot\u001b[0m\u001b[1ms\u001b[22m_\u001b[0m\u001b[1mh\u001b[22me\u001b[0m\u001b[1ma\u001b[22mtma\u001b[0m\u001b[1mp\u001b[22m!\n",
      "\n"
     ]
    },
    {
     "data": {
      "text/latex": [
       "\\begin{verbatim}\n",
       "Shape(x, y)\n",
       "Shape(vertices)\n",
       "\\end{verbatim}\n",
       "Construct a polygon to be plotted\n",
       "\n"
      ],
      "text/markdown": [
       "```\n",
       "Shape(x, y)\n",
       "Shape(vertices)\n",
       "```\n",
       "\n",
       "Construct a polygon to be plotted\n"
      ],
      "text/plain": [
       "\u001b[36m  Shape(x, y)\u001b[39m\n",
       "\u001b[36m  Shape(vertices)\u001b[39m\n",
       "\n",
       "  Construct a polygon to be plotted"
      ]
     },
     "execution_count": 17,
     "metadata": {},
     "output_type": "execute_result"
    }
   ],
   "source": [
    "?Shape"
   ]
  },
  {
   "cell_type": "code",
   "execution_count": 4,
   "id": "4aac0107-6465-4a6f-a8cd-51b1299d68b9",
   "metadata": {
    "tags": []
   },
   "outputs": [
    {
     "data": {
      "text/plain": [
       "rectangle (generic function with 2 methods)"
      ]
     },
     "execution_count": 4,
     "metadata": {},
     "output_type": "execute_result"
    }
   ],
   "source": [
    "rectangle(w, h, x, y) = Shape(x .+ [0,w,w,0], y .+ [0,0,h,h])\n",
    "rectangle(O::Matshape) = Shape(O.x .+ [0,O.w,O.w,0], O.y .+ [0,0,O.h,O.h])"
   ]
  },
  {
   "cell_type": "code",
   "execution_count": 5,
   "id": "1cb67736-6be6-4ee2-99b9-15add4b93160",
   "metadata": {
    "tags": []
   },
   "outputs": [
    {
     "data": {
      "text/plain": [
       "matcolrow (generic function with 1 method)"
      ]
     },
     "execution_count": 5,
     "metadata": {},
     "output_type": "execute_result"
    }
   ],
   "source": [
    "# Returns 3 shapes: a matrix with one column and one row\n",
    "matcolrow(A, B, C) = return rectangle(A), rectangle(B), rectangle(C)  "
   ]
  },
  {
   "cell_type": "markdown",
   "id": "1dc47324-af63-4dc8-8168-29e7ee27f802",
   "metadata": {},
   "source": [
    "### Plot functions"
   ]
  },
  {
   "cell_type": "code",
   "execution_count": 6,
   "id": "b397be8f-6d86-4314-8c7d-922fe8f8abf1",
   "metadata": {
    "tags": []
   },
   "outputs": [
    {
     "data": {
      "text/plain": [
       "plot_matcolrow! (generic function with 2 methods)"
      ]
     },
     "execution_count": 6,
     "metadata": {},
     "output_type": "execute_result"
    }
   ],
   "source": [
    "# M, C, R are respectively the 3 shapes: matrix, column, row\n",
    "function plot_matcolrow!(M, C, R, my_color, mat_linewidth, mat_linecolor = my_color)\n",
    "    # Plot matrix\n",
    "    plot!(\n",
    "        M,\n",
    "        fillcolor = plot_color(my_color, 0.4), \n",
    "        linecolor = mat_linecolor,\n",
    "        linewidth = mat_linewidth\n",
    "    )\n",
    "\n",
    "    # Plot matrix column\n",
    "    plot!(\n",
    "        C,\n",
    "        fillcolor = plot_color(my_color, 0.3), \n",
    "        linecolor = mat_linecolor,\n",
    "        linewidth = 1\n",
    "    )\n",
    "\n",
    "    # Plot matrix row\n",
    "    my_plot = plot!(\n",
    "        R,\n",
    "        fillcolor = plot_color(my_color, 0.3), \n",
    "        linecolor = mat_linecolor,\n",
    "        linewidth = 1\n",
    "    )\n",
    "\n",
    "    return my_plot\n",
    "end"
   ]
  },
  {
   "cell_type": "markdown",
   "id": "5f761520-cc26-42c4-acca-6168cf1aaa51",
   "metadata": {},
   "source": [
    "## MLM Figure"
   ]
  },
  {
   "cell_type": "markdown",
   "id": "3cdb9ace-2348-48d1-8ac0-4e374623188b",
   "metadata": {},
   "source": [
    "### Draw a rectangle"
   ]
  },
  {
   "cell_type": "code",
   "execution_count": 188,
   "id": "f1fd11eb-2ff7-49dc-8d93-af36489cad72",
   "metadata": {
    "tags": []
   },
   "outputs": [],
   "source": [
    "# Matshape(width, height, x_coord, y_coord);\n",
    "Y = Matshape(65, -60, 0, 0);\n",
    "X = Matshape(45, -60, 70, 0);\n",
    "L = Matshape(65, -90, 0, -65);\n",
    "gap = X.x-Y.w;"
   ]
  },
  {
   "cell_type": "code",
   "execution_count": 189,
   "id": "7e6462dd-24d3-458e-841a-1979858993d7",
   "metadata": {
    "tags": []
   },
   "outputs": [
    {
     "data": {
      "text/plain": [
       "Shape{Int64, Int64}([0, 65, 65, 0], [-65, -65, -155, -155])"
      ]
     },
     "execution_count": 189,
     "metadata": {},
     "output_type": "execute_result"
    }
   ],
   "source": [
    "rec_Y = rectangle(Y)\n",
    "rec_X = rectangle(X)\n",
    "rec_L = rectangle(L)"
   ]
  },
  {
   "cell_type": "markdown",
   "id": "5ebac619-382e-4538-894d-b361a8a87dd8",
   "metadata": {},
   "source": [
    "### Customized attributes"
   ]
  },
  {
   "cell_type": "code",
   "execution_count": 190,
   "id": "1791cb58-7405-4d49-bb82-1800c01b28c1",
   "metadata": {
    "tags": []
   },
   "outputs": [
    {
     "data": {
      "text/plain": [
       "2"
      ]
     },
     "execution_count": 190,
     "metadata": {},
     "output_type": "execute_result"
    }
   ],
   "source": [
    "my_linewidth = 2"
   ]
  },
  {
   "cell_type": "markdown",
   "id": "70cff9fc-addc-4f2d-8956-471bdb1fc66a",
   "metadata": {},
   "source": [
    "### Customized Colors"
   ]
  },
  {
   "cell_type": "code",
   "execution_count": 191,
   "id": "6ef9fe72-d5a0-42ab-8df0-af5a17ffb08a",
   "metadata": {
    "tags": []
   },
   "outputs": [
    {
     "data": {
      "image/svg+xml": [
       "<?xml version=\"1.0\" encoding=\"UTF-8\"?>\n",
       "<!DOCTYPE svg PUBLIC \"-//W3C//DTD SVG 1.1//EN\"\n",
       " \"http://www.w3.org/Graphics/SVG/1.1/DTD/svg11.dtd\">\n",
       "<svg xmlns=\"http://www.w3.org/2000/svg\" version=\"1.1\"\n",
       "     width=\"25mm\" height=\"25mm\" viewBox=\"0 0 1 1\">\n",
       "    <rect width=\"1\" height=\"1\" fill=\"#C2FFC2\" stroke=\"none\"/>\n",
       "</svg>\n"
      ],
      "text/plain": [
       "RGB{Float64}(0.76,1.0,0.76)"
      ]
     },
     "execution_count": 191,
     "metadata": {},
     "output_type": "execute_result"
    }
   ],
   "source": [
    "my_orange = RGB(241/255,163/255,64/255)\n",
    "my_blue = RGB(103/255,169/255,207/255)\n",
    "my_red = RGB(250/255,68/255,48/255)\n",
    "my_black = RGB(0/255,0/255,0/255)\n",
    "my_grey = RGB(200/255,200/255,200/255)\n",
    "my_white = RGB(1, 1, 1)\n",
    "my_green = RGB(0.76,1.0,0.76)"
   ]
  },
  {
   "cell_type": "markdown",
   "id": "0d9cfc5e-53fa-4612-a417-5846f5500874",
   "metadata": {},
   "source": [
    "### Plot"
   ]
  },
  {
   "cell_type": "code",
   "execution_count": 192,
   "id": "4672de3f-a3f6-4cb0-bdca-2eb91f6aad72",
   "metadata": {
    "tags": []
   },
   "outputs": [
    {
     "data": {
      "image/svg+xml": [
       "<?xml version=\"1.0\" encoding=\"utf-8\"?>\n",
       "<svg xmlns=\"http://www.w3.org/2000/svg\" xmlns:xlink=\"http://www.w3.org/1999/xlink\" width=\"600\" height=\"400\" viewBox=\"0 0 2400 1600\">\n",
       "<defs>\n",
       "  <clipPath id=\"clip920\">\n",
       "    <rect x=\"0\" y=\"0\" width=\"2400\" height=\"1600\"/>\n",
       "  </clipPath>\n",
       "</defs>\n",
       "<path clip-path=\"url(#clip920)\" d=\"M0 1600 L2400 1600 L2400 0 L0 0  Z\" fill=\"#ffffff\" fill-rule=\"evenodd\" fill-opacity=\"1\"/>\n",
       "<defs>\n",
       "  <clipPath id=\"clip921\">\n",
       "    <rect x=\"480\" y=\"0\" width=\"1681\" height=\"1600\"/>\n",
       "  </clipPath>\n",
       "</defs>\n",
       "<path clip-path=\"url(#clip920)\" d=\"M35.8002 1486.45 L2321.26 1486.45 L2321.26 47.2441 L35.8002 47.2441  Z\" fill=\"#ffffff\" fill-rule=\"evenodd\" fill-opacity=\"1\"/>\n",
       "<defs>\n",
       "  <clipPath id=\"clip922\">\n",
       "    <rect x=\"35\" y=\"47\" width=\"2286\" height=\"1440\"/>\n",
       "  </clipPath>\n",
       "</defs>\n",
       "<path clip-path=\"url(#clip922)\" d=\"M100.483 87.9763 L1435.21 87.9763 L1435.21 613.553 L100.483 613.553 L100.483 87.9763  Z\" fill=\"#f1a340\" fill-rule=\"evenodd\" fill-opacity=\"0.4\"/>\n",
       "<polyline clip-path=\"url(#clip922)\" style=\"stroke:#f1a340; stroke-linecap:round; stroke-linejoin:round; stroke-width:8; stroke-opacity:1; fill:none\" points=\"100.483,87.9763 1435.21,87.9763 1435.21,613.553 100.483,613.553 100.483,87.9763 \"/>\n",
       "<path clip-path=\"url(#clip922)\" d=\"M1537.88 87.9763 L2256.58 87.9763 L2256.58 613.553 L1537.88 613.553 L1537.88 87.9763  Z\" fill=\"#67a9cf\" fill-rule=\"evenodd\" fill-opacity=\"0.4\"/>\n",
       "<polyline clip-path=\"url(#clip922)\" style=\"stroke:#67a9cf; stroke-linecap:round; stroke-linejoin:round; stroke-width:8; stroke-opacity:1; fill:none\" points=\"1537.88,87.9763 2256.58,87.9763 2256.58,613.553 1537.88,613.553 1537.88,87.9763 \"/>\n",
       "<path clip-path=\"url(#clip922)\" d=\"M100.483 657.351 L1435.21 657.351 L1435.21 1445.72 L100.483 1445.72 L100.483 657.351  Z\" fill=\"#c1ffc1\" fill-rule=\"evenodd\" fill-opacity=\"0.4\"/>\n",
       "<polyline clip-path=\"url(#clip922)\" style=\"stroke:#c1ffc1; stroke-linecap:round; stroke-linejoin:round; stroke-width:8; stroke-opacity:1; fill:none\" points=\"100.483,657.351 1435.21,657.351 1435.21,1445.72 100.483,1445.72 100.483,657.351 \"/>\n",
       "<g clip-path=\"url(#clip920)\">\n",
       "<text style=\"fill:#000000; fill-opacity:1; font-family:Century Schoolbook,Georgia,serif; font-size:96px; font-weight:bold; text-anchor:middle;\" transform=\"rotate(0, 767.845, 385.265)\" x=\"767.845\" y=\"385.265\">Y</text>\n",
       "</g>\n",
       "<g clip-path=\"url(#clip920)\">\n",
       "<text style=\"fill:#000000; fill-opacity:1; font-family:Century Schoolbook,Georgia,serif; font-size:96px; font-weight:bold; text-anchor:middle;\" transform=\"rotate(0, 1897.23, 385.265)\" x=\"1897.23\" y=\"385.265\">X</text>\n",
       "</g>\n",
       "<g clip-path=\"url(#clip920)\">\n",
       "<text style=\"fill:#000000; fill-opacity:1; font-family:Century Schoolbook,Georgia,serif; font-size:96px; font-weight:bold; text-anchor:middle;\" transform=\"rotate(0, 767.845, 1086.03)\" x=\"767.845\" y=\"1086.03\">L</text>\n",
       "</g>\n",
       "<g clip-path=\"url(#clip920)\">\n",
       "<text style=\"fill:#808080; fill-opacity:1; font-family:Century Schoolbook,Georgia,serif; font-size:84px; font-style:italic; text-anchor:middle;\" transform=\"rotate(0, 767.845, 460.101)\" x=\"767.845\" y=\"460.101\">expression traits to be scanned</text>\n",
       "</g>\n",
       "<g clip-path=\"url(#clip920)\">\n",
       "<text style=\"fill:#808080; fill-opacity:1; font-family:Century Schoolbook,Georgia,serif; font-size:84px; font-style:italic; text-anchor:middle;\" transform=\"rotate(0, 1897.23, 460.101)\" x=\"1897.23\" y=\"460.101\">genome markers</text>\n",
       "</g>\n",
       "<g clip-path=\"url(#clip920)\">\n",
       "<text style=\"fill:#808080; fill-opacity:1; font-family:Century Schoolbook,Georgia,serif; font-size:84px; font-style:italic; text-anchor:middle;\" transform=\"rotate(0, 767.845, 1160.87)\" x=\"767.845\" y=\"1160.87\">result matrix of LOD scores</text>\n",
       "</g>\n",
       "<g clip-path=\"url(#clip920)\">\n",
       "<text style=\"fill:#000000; fill-opacity:1; font-family:Century Schoolbook,Georgia,serif; font-size:84px; font-style:italic; text-anchor:middle;\" transform=\"rotate(0, 2338.71, 381.265)\" x=\"2338.71\" y=\"381.265\">n</text>\n",
       "</g>\n",
       "<g clip-path=\"url(#clip920)\">\n",
       "<text style=\"fill:#000000; fill-opacity:1; font-family:Century Schoolbook,Georgia,serif; font-size:84px; font-style:italic; text-anchor:middle;\" transform=\"rotate(0, 1886.96, 687.851)\" x=\"1886.96\" y=\"687.851\">p</text>\n",
       "</g>\n",
       "<g clip-path=\"url(#clip920)\">\n",
       "<text style=\"fill:#000000; fill-opacity:1; font-family:Century Schoolbook,Georgia,serif; font-size:84px; font-style:italic; text-anchor:middle;\" transform=\"rotate(0, 1496.81, 1082.03)\" x=\"1496.81\" y=\"1082.03\">p</text>\n",
       "</g>\n",
       "<g clip-path=\"url(#clip920)\">\n",
       "<text style=\"fill:#000000; fill-opacity:1; font-family:Century Schoolbook,Georgia,serif; font-size:84px; font-style:italic; text-anchor:middle;\" transform=\"rotate(0, 767.845, 1520.01)\" x=\"767.845\" y=\"1520.01\">m</text>\n",
       "</g>\n",
       "</svg>\n"
      ]
     },
     "execution_count": 192,
     "metadata": {},
     "output_type": "execute_result"
    }
   ],
   "source": [
    "#################\n",
    "# Plot Matrices #\n",
    "#################\n",
    "pInit = plot(\n",
    "    legend = false,\n",
    "    grid = false,\n",
    "    xaxis = false,\n",
    "    yaxis = false,\n",
    "    right_margin = (3,:mm),\n",
    "    left_margin = (-10,:mm),\n",
    "    rec_Y,\n",
    "    fillcolor = plot_color(my_orange, 0.4), \n",
    "    linecolor = my_orange,\n",
    "    linewidth = my_linewidth\n",
    ")\n",
    "\n",
    "plot!(\n",
    "    rec_X,\n",
    "    fillcolor = plot_color(my_blue, 0.4), \n",
    "    linecolor = my_blue,\n",
    "    linewidth = my_linewidth\n",
    ")\n",
    "\n",
    "plot!(\n",
    "    rec_L,\n",
    "    fillcolor = plot_color(my_green, 0.4), \n",
    "    linecolor = my_green,\n",
    "    linewidth = my_linewidth\n",
    ")\n",
    "\n",
    "####################\n",
    "# Plot Annotations #\n",
    "####################\n",
    "# font attributes\n",
    "mat_font = \"New Century Schoolbook Bold\"\n",
    "mat_font_sup = \"New Century Schoolbook Bold Italic\"\n",
    "dim_font = \"New Century Schoolbook Italic\"\n",
    "\n",
    "mat_font_size = 16\n",
    "dim_font_size = 14\n",
    "# my_font = \"Bookman Demi\"\n",
    "\n",
    "# Matrix Names\n",
    "annotate!([\n",
    "        (Y.w/2, Y.h/2, (\"Y\", mat_font_size, :black, :center, mat_font)), \n",
    "        (X.w/2+X.x, X.h/2, (\"X\", mat_font_size, :black, :center, mat_font)),\n",
    "        (L.w/2, L.h/2+L.y, (\"L\", mat_font_size, :black, :center, mat_font)),\n",
    "])\n",
    "\n",
    "# Descriptions\n",
    "annotate!([\n",
    "        (Y.w/2, Y.h/2-9, (\"expression traits to be scanned\", dim_font_size, :grey, :center, dim_font)), \n",
    "        (X.w/2+X.x, X.h/2-9, (\"genome markers\", dim_font_size, :grey, :center, dim_font)),\n",
    "        (L.w/2, L.h/2+L.y-9, (\"result matrix of LOD scores\", dim_font_size, :grey, :center, dim_font)),\n",
    "])\n",
    "\n",
    "# Dimensions\n",
    "annotate!([\n",
    "        (Y.w+X.w+gap+4, Y.h/2, (\"n\", dim_font_size, :black, :center, dim_font)), \n",
    "        (Y.w+X.w-gap-8, X.h-5, (\"p\", dim_font_size, :black, :center, dim_font)),\n",
    "        (L.w+3, Y.h+L.h/2-gap, (\"p\", dim_font_size, :black, :center, dim_font)),\n",
    "        (L.w/2, Y.h+L.h-10, (\"m\", dim_font_size, :black, :center, dim_font)),\n",
    "])\n",
    "\n",
    "# savefig(\"images/mlmdiagram.svg\")\n",
    "pInit"
   ]
  },
  {
   "cell_type": "markdown",
   "id": "294d3dda-948b-42c1-ac76-fd08f87ab488",
   "metadata": {},
   "source": [
    "## MLM Statin Figure"
   ]
  },
  {
   "cell_type": "markdown",
   "id": "e7a060a3-3e33-43d0-8197-b6370a68f21b",
   "metadata": {},
   "source": [
    "### Draw a rectangle"
   ]
  },
  {
   "cell_type": "code",
   "execution_count": 163,
   "id": "d9e6180e-9b0d-42a9-983e-d67d5ac643ea",
   "metadata": {
    "lines_to_next_cell": 2,
    "tags": []
   },
   "outputs": [],
   "source": [
    "Y_box = Matshape(65,-60,0,0);\n",
    "Y_col = Matshape(5,-60,55,0);\n",
    "Y_row = Matshape(65,-5,0,-15);\n",
    "\n",
    "X_box = Matshape(30,-60,70,0)\n",
    "X_col = Matshape(5,-60,90,0);\n",
    "X_row = Matshape(30,-5,70,-15);\n",
    "\n",
    "L_box = Matshape(65,-35,0,-65)\n",
    "L_col = Matshape(5,-35,55,-65);\n",
    "L_row = Matshape(65,-5,0,-75);\n",
    "\n",
    "rec_Y_box, rec_Y_col, rec_Y_row = matcolrow(Y_box, Y_col, Y_row);\n",
    "rec_X_box, rec_X_col, rec_X_row = matcolrow(X_box, X_col, X_row);\n",
    "rec_L_box, rec_L_col, rec_L_row = matcolrow(L_box, L_col, L_row);"
   ]
  },
  {
   "cell_type": "code",
   "execution_count": 167,
   "id": "63c8ec3e-474b-498c-bb57-ed37e33e82f3",
   "metadata": {
    "lines_to_next_cell": 0,
    "tags": []
   },
   "outputs": [
    {
     "data": {
      "image/svg+xml": [
       "<?xml version=\"1.0\" encoding=\"utf-8\"?>\n",
       "<svg xmlns=\"http://www.w3.org/2000/svg\" xmlns:xlink=\"http://www.w3.org/1999/xlink\" width=\"600\" height=\"400\" viewBox=\"0 0 2400 1600\">\n",
       "<defs>\n",
       "  <clipPath id=\"clip600\">\n",
       "    <rect x=\"0\" y=\"0\" width=\"2400\" height=\"1600\"/>\n",
       "  </clipPath>\n",
       "</defs>\n",
       "<path clip-path=\"url(#clip600)\" d=\"M0 1600 L2400 1600 L2400 0 L0 0  Z\" fill=\"#ffffff\" fill-rule=\"evenodd\" fill-opacity=\"1\"/>\n",
       "<defs>\n",
       "  <clipPath id=\"clip601\">\n",
       "    <rect x=\"480\" y=\"0\" width=\"1681\" height=\"1600\"/>\n",
       "  </clipPath>\n",
       "</defs>\n",
       "<path clip-path=\"url(#clip600)\" d=\"M35.8002 1486.45 L2321.26 1486.45 L2321.26 47.2441 L35.8002 47.2441  Z\" fill=\"#ffffff\" fill-rule=\"evenodd\" fill-opacity=\"1\"/>\n",
       "<defs>\n",
       "  <clipPath id=\"clip602\">\n",
       "    <rect x=\"35\" y=\"47\" width=\"2286\" height=\"1440\"/>\n",
       "  </clipPath>\n",
       "</defs>\n",
       "<path clip-path=\"url(#clip602)\" d=\"M594.833 234.966 L1663.57 234.966 L1663.57 985.855 L594.833 985.855 L594.833 234.966  Z\" fill=\"#f1a340\" fill-rule=\"evenodd\" fill-opacity=\"0.4\"/>\n",
       "<polyline clip-path=\"url(#clip602)\" style=\"stroke:#f1a340; stroke-linecap:round; stroke-linejoin:round; stroke-width:8; stroke-opacity:1; fill:none\" points=\"594.833,234.966 1663.57,234.966 1663.57,985.855 594.833,985.855 594.833,234.966 \"/>\n",
       "<path clip-path=\"url(#clip602)\" d=\"M1499.15 234.966 L1581.36 234.966 L1581.36 985.855 L1499.15 985.855 L1499.15 234.966  Z\" fill=\"#f1a340\" fill-rule=\"evenodd\" fill-opacity=\"0.3\"/>\n",
       "<polyline clip-path=\"url(#clip602)\" style=\"stroke:#f1a340; stroke-linecap:round; stroke-linejoin:round; stroke-width:4; stroke-opacity:1; fill:none\" points=\"1499.15,234.966 1581.36,234.966 1581.36,985.855 1499.15,985.855 1499.15,234.966 \"/>\n",
       "<path clip-path=\"url(#clip602)\" d=\"M594.833 422.689 L1663.57 422.689 L1663.57 485.263 L594.833 485.263 L594.833 422.689  Z\" fill=\"#f1a340\" fill-rule=\"evenodd\" fill-opacity=\"0.3\"/>\n",
       "<polyline clip-path=\"url(#clip602)\" style=\"stroke:#f1a340; stroke-linecap:round; stroke-linejoin:round; stroke-width:4; stroke-opacity:1; fill:none\" points=\"594.833,422.689 1663.57,422.689 1663.57,485.263 594.833,485.263 594.833,422.689 \"/>\n",
       "<path clip-path=\"url(#clip602)\" d=\"M1745.78 234.966 L2239.05 234.966 L2239.05 985.855 L1745.78 985.855 L1745.78 234.966  Z\" fill=\"#67a9cf\" fill-rule=\"evenodd\" fill-opacity=\"0.4\"/>\n",
       "<polyline clip-path=\"url(#clip602)\" style=\"stroke:#67a9cf; stroke-linecap:round; stroke-linejoin:round; stroke-width:8; stroke-opacity:1; fill:none\" points=\"1745.78,234.966 2239.05,234.966 2239.05,985.855 1745.78,985.855 1745.78,234.966 \"/>\n",
       "<path clip-path=\"url(#clip602)\" d=\"M2074.63 234.966 L2156.84 234.966 L2156.84 985.855 L2074.63 985.855 L2074.63 234.966  Z\" fill=\"#67a9cf\" fill-rule=\"evenodd\" fill-opacity=\"0.3\"/>\n",
       "<polyline clip-path=\"url(#clip602)\" style=\"stroke:#67a9cf; stroke-linecap:round; stroke-linejoin:round; stroke-width:4; stroke-opacity:1; fill:none\" points=\"2074.63,234.966 2156.84,234.966 2156.84,985.855 2074.63,985.855 2074.63,234.966 \"/>\n",
       "<path clip-path=\"url(#clip602)\" d=\"M1745.78 422.689 L2239.05 422.689 L2239.05 485.263 L1745.78 485.263 L1745.78 422.689  Z\" fill=\"#67a9cf\" fill-rule=\"evenodd\" fill-opacity=\"0.3\"/>\n",
       "<polyline clip-path=\"url(#clip602)\" style=\"stroke:#67a9cf; stroke-linecap:round; stroke-linejoin:round; stroke-width:4; stroke-opacity:1; fill:none\" points=\"1745.78,422.689 2239.05,422.689 2239.05,485.263 1745.78,485.263 1745.78,422.689 \"/>\n",
       "<path clip-path=\"url(#clip602)\" d=\"M594.833 1048.43 L1663.57 1048.43 L1663.57 1486.45 L594.833 1486.45 L594.833 1048.43  Z\" fill=\"#67a9cf\" fill-rule=\"evenodd\" fill-opacity=\"0.4\"/>\n",
       "<polyline clip-path=\"url(#clip602)\" style=\"stroke:#67a9cf; stroke-linecap:round; stroke-linejoin:round; stroke-width:8; stroke-opacity:1; fill:none\" points=\"594.833,1048.43 1663.57,1048.43 1663.57,1486.45 594.833,1486.45 594.833,1048.43 \"/>\n",
       "<path clip-path=\"url(#clip602)\" d=\"M1499.15 1048.43 L1581.36 1048.43 L1581.36 1486.45 L1499.15 1486.45 L1499.15 1048.43  Z\" fill=\"#67a9cf\" fill-rule=\"evenodd\" fill-opacity=\"0.3\"/>\n",
       "<polyline clip-path=\"url(#clip602)\" style=\"stroke:#67a9cf; stroke-linecap:round; stroke-linejoin:round; stroke-width:4; stroke-opacity:1; fill:none\" points=\"1499.15,1048.43 1581.36,1048.43 1581.36,1486.45 1499.15,1486.45 1499.15,1048.43 \"/>\n",
       "<path clip-path=\"url(#clip602)\" d=\"M594.833 1173.58 L1663.57 1173.58 L1663.57 1236.15 L594.833 1236.15 L594.833 1173.58  Z\" fill=\"#67a9cf\" fill-rule=\"evenodd\" fill-opacity=\"0.3\"/>\n",
       "<polyline clip-path=\"url(#clip602)\" style=\"stroke:#67a9cf; stroke-linecap:round; stroke-linejoin:round; stroke-width:4; stroke-opacity:1; fill:none\" points=\"594.833,1173.58 1663.57,1173.58 1663.57,1236.15 594.833,1236.15 594.833,1173.58 \"/>\n",
       "<polyline clip-path=\"url(#clip602)\" style=\"stroke:#808080; stroke-linecap:round; stroke-linejoin:round; stroke-width:4; stroke-opacity:1; fill:none\" points=\"496.181,453.976 578.391,453.976 \"/>\n",
       "<polyline clip-path=\"url(#clip602)\" style=\"stroke:#808080; stroke-linecap:round; stroke-linejoin:round; stroke-width:4; stroke-opacity:1; fill:none\" points=\"542.391,435.976 578.391,453.976 542.391,471.976 \"/>\n",
       "<polyline clip-path=\"url(#clip602)\" style=\"stroke:#808080; stroke-linecap:round; stroke-linejoin:round; stroke-width:4; stroke-opacity:1; fill:none\" points=\"578.391,453.976 496.181,453.976 \"/>\n",
       "<polyline clip-path=\"url(#clip602)\" style=\"stroke:#808080; stroke-linecap:round; stroke-linejoin:round; stroke-width:4; stroke-opacity:1; fill:none\" points=\"496.181,1204.86 578.391,1204.86 \"/>\n",
       "<polyline clip-path=\"url(#clip602)\" style=\"stroke:#808080; stroke-linecap:round; stroke-linejoin:round; stroke-width:4; stroke-opacity:1; fill:none\" points=\"542.391,1186.86 578.391,1204.86 542.391,1222.86 \"/>\n",
       "<polyline clip-path=\"url(#clip602)\" style=\"stroke:#808080; stroke-linecap:round; stroke-linejoin:round; stroke-width:4; stroke-opacity:1; fill:none\" points=\"578.391,1204.86 496.181,1204.86 \"/>\n",
       "<polyline clip-path=\"url(#clip602)\" style=\"stroke:#808080; stroke-linecap:round; stroke-linejoin:round; stroke-width:4; stroke-opacity:1; fill:none\" points=\"1540.26,159.877 1540.26,222.452 \"/>\n",
       "<polyline clip-path=\"url(#clip602)\" style=\"stroke:#808080; stroke-linecap:round; stroke-linejoin:round; stroke-width:4; stroke-opacity:1; fill:none\" points=\"1558.26,186.452 1540.26,222.452 1522.26,186.452 \"/>\n",
       "<polyline clip-path=\"url(#clip602)\" style=\"stroke:#808080; stroke-linecap:round; stroke-linejoin:round; stroke-width:4; stroke-opacity:1; fill:none\" points=\"1540.26,222.452 1540.26,159.877 \"/>\n",
       "<polyline clip-path=\"url(#clip602)\" style=\"stroke:#808080; stroke-linecap:round; stroke-linejoin:round; stroke-width:4; stroke-opacity:1; fill:none\" points=\"2115.73,159.877 2115.73,222.452 \"/>\n",
       "<polyline clip-path=\"url(#clip602)\" style=\"stroke:#808080; stroke-linecap:round; stroke-linejoin:round; stroke-width:4; stroke-opacity:1; fill:none\" points=\"2133.73,186.452 2115.73,222.452 2097.73,186.452 \"/>\n",
       "<polyline clip-path=\"url(#clip602)\" style=\"stroke:#808080; stroke-linecap:round; stroke-linejoin:round; stroke-width:4; stroke-opacity:1; fill:none\" points=\"2115.73,222.452 2115.73,159.877 \"/>\n",
       "<g clip-path=\"url(#clip600)\">\n",
       "<text style=\"fill:#000000; fill-opacity:1; font-family:Century Schoolbook,Georgia,serif; font-size:96px; font-weight:bold; text-anchor:middle;\" transform=\"rotate(0, 1046.99, 770.059)\" x=\"1046.99\" y=\"770.059\">Y</text>\n",
       "</g>\n",
       "<g clip-path=\"url(#clip600)\">\n",
       "<text style=\"fill:#000000; fill-opacity:1; font-family:Century Schoolbook,Georgia,serif; font-size:96px; font-weight:bold; text-anchor:middle;\" transform=\"rotate(0, 1910.21, 770.059)\" x=\"1910.21\" y=\"770.059\">X</text>\n",
       "</g>\n",
       "<g clip-path=\"url(#clip600)\">\n",
       "<text style=\"fill:#000000; fill-opacity:1; font-family:Century Schoolbook,Georgia,serif; font-size:96px; font-weight:bold; text-anchor:middle;\" transform=\"rotate(0, 1046.99, 1395.8)\" x=\"1046.99\" y=\"1395.8\">Z</text>\n",
       "</g>\n",
       "<g clip-path=\"url(#clip600)\">\n",
       "<text style=\"fill:#000000; fill-opacity:1; font-family:Century Schoolbook,Georgia,serif; font-size:54px; font-style:italic; font-weight:bold; text-anchor:middle;\" transform=\"rotate(0, 1092.21, 1346.38)\" x=\"1092.21\" y=\"1346.38\">T</text>\n",
       "</g>\n",
       "<g clip-path=\"url(#clip600)\">\n",
       "<text style=\"fill:#000000; fill-opacity:1; font-family:Century Schoolbook,Georgia,serif; font-size:54px; font-style:italic; font-weight:bold; text-anchor:middle;\" transform=\"rotate(0, 1955.42, 1346.38)\" x=\"1955.42\" y=\"1346.38\">T</text>\n",
       "</g>\n",
       "<g clip-path=\"url(#clip600)\">\n",
       "<text style=\"fill:#808080; fill-opacity:1; font-family:Century Schoolbook,Georgia,serif; font-size:60px; font-style:italic; text-anchor:start;\" transform=\"rotate(0, 1496.49, 74.9655)\" x=\"1496.49\" y=\"74.9655\">TG</text>\n",
       "</g>\n",
       "<g clip-path=\"url(#clip600)\">\n",
       "<text style=\"fill:#808080; fill-opacity:1; font-family:Century Schoolbook,Georgia,serif; font-size:60px; font-style:italic; text-anchor:start;\" transform=\"rotate(0, 1315.76, 137.612)\" x=\"1315.76\" y=\"137.612\">(12:0_12:0_18:2)</text>\n",
       "</g>\n",
       "<g clip-path=\"url(#clip600)\">\n",
       "<text style=\"fill:#808080; fill-opacity:1; font-family:Century Schoolbook,Georgia,serif; font-size:60px; font-style:italic; text-anchor:end;\" transform=\"rotate(0, 479.738, 475.476)\" x=\"479.738\" y=\"475.476\">sample 7</text>\n",
       "</g>\n",
       "<g clip-path=\"url(#clip600)\">\n",
       "<text style=\"fill:#808080; fill-opacity:1; font-family:Century Schoolbook,Georgia,serif; font-size:60px; font-style:italic; text-anchor:middle;\" transform=\"rotate(0, 2115.73, 143.833)\" x=\"2115.73\" y=\"143.833\">Fish Oil</text>\n",
       "</g>\n",
       "<g clip-path=\"url(#clip600)\">\n",
       "<text style=\"fill:#808080; fill-opacity:1; font-family:Century Schoolbook,Georgia,serif; font-size:60px; font-style:italic; text-anchor:end;\" transform=\"rotate(0, 479.738, 1226.36)\" x=\"479.738\" y=\"1226.36\">Double Bonds = 2</text>\n",
       "</g>\n",
       "<g clip-path=\"url(#clip600)\">\n",
       "<text style=\"fill:#000000; fill-opacity:1; font-family:Century Schoolbook,Georgia,serif; font-size:72px; font-style:italic; text-anchor:middle;\" transform=\"rotate(0, 2304.82, 636.411)\" x=\"2304.82\" y=\"636.411\">n</text>\n",
       "</g>\n",
       "<g clip-path=\"url(#clip600)\">\n",
       "<text style=\"fill:#000000; fill-opacity:1; font-family:Century Schoolbook,Georgia,serif; font-size:72px; font-style:italic; text-anchor:middle;\" transform=\"rotate(0, 2304.82, 1293.44)\" x=\"2304.82\" y=\"1293.44\">q</text>\n",
       "</g>\n",
       "<g clip-path=\"url(#clip600)\">\n",
       "<text style=\"fill:#000000; fill-opacity:1; font-family:Century Schoolbook,Georgia,serif; font-size:72px; font-style:italic; text-anchor:middle;\" transform=\"rotate(0, 1129.2, 1562.51)\" x=\"1129.2\" y=\"1562.51\">m</text>\n",
       "</g>\n",
       "</svg>\n"
      ]
     },
     "execution_count": 167,
     "metadata": {},
     "output_type": "execute_result"
    }
   ],
   "source": [
    "#################\n",
    "# Plot Matrices #\n",
    "#################\n",
    "pExample = plot(\n",
    "    legend = false,\n",
    "    grid = false,\n",
    "    xaxis = false,\n",
    "    yaxis = false,\n",
    "    xlim = (-34,105),\n",
    "    ylim = (-100,15),\n",
    "    right_margin = (3,:mm),\n",
    "    left_margin = (-10,:mm),\n",
    ")\n",
    "\n",
    "#################\n",
    "# Plot Y matrix #\n",
    "#################\n",
    "\n",
    "plot_matcolrow!(rec_Y_box, rec_Y_col, rec_Y_row, my_orange, my_linewidth)\n",
    "\n",
    "\n",
    "#################\n",
    "# Plot X matrix #\n",
    "#################\n",
    "\n",
    "plot_matcolrow!(rec_X_box, rec_X_col, rec_X_row, my_blue, my_linewidth)\n",
    "\n",
    "\n",
    "#################\n",
    "# Plot L matrix #\n",
    "#################\n",
    "plot_matcolrow!(rec_L_box, rec_L_col, rec_L_row, my_blue, my_linewidth)\n",
    "\n",
    "####################\n",
    "# Plot Annotations #\n",
    "####################\n",
    "# font attributes\n",
    "mat_font = \"New Century Schoolbook Bold\"\n",
    "mat_font_sup = \"New Century Schoolbook Bold Italic\"\n",
    "dim_font = \"New Century Schoolbook Italic\"\n",
    "\n",
    "mat_font_size = 16\n",
    "dim_font_size = 12\n",
    "example_font_size = 10\n",
    "# my_font = \"Bookman Demi\"\n",
    "\n",
    "# Matrix Names\n",
    "nntt_mat(M, C, R, my_text, my_font_size, my_color, my_alginmen, my_font) = ((M.x+C.x)/2, (M.y+M.h+R.y+R.h)/2, (my_text, my_font_size, my_color, my_alginmen, my_font))\n",
    "nntt_mat_sup(M, C, R, my_text, my_font_size, my_color, my_alginmen, my_font) = ((M.x+C.x)/2+2.75, (M.y+M.h+R.y+R.h)/2+2.75, (my_text, my_font_size, my_color, my_alginmen, my_font))\n",
    "\n",
    "annotate!([\n",
    "        nntt_mat(Y_box, Y_col, Y_row, \"Y\", mat_font_size, :black, :center, mat_font),\n",
    "        nntt_mat(X_box, X_col, X_row, \"X\", mat_font_size, :black, :center, mat_font),\n",
    "        nntt_mat(Z_box, Z_col, Z_row, \"Z\", mat_font_size, :black, :center, mat_font),\n",
    "])\n",
    "\n",
    "annotate!([\n",
    "        nntt_mat_sup(Z_box, Z_col, Z_row, \"T\", 9, :black, :center, mat_font_sup),\n",
    "        nntt_mat_sup(B_box, B_col, B_row, \"T\", 9, :black, :center, mat_font_sup),\n",
    "])\n",
    "\n",
    "\n",
    "\n",
    "# Descriptions\n",
    "annotate!([\n",
    "        (Y_col.w/2+Y_col.x, 12, (\"TG\\n(12:0_12:0_18:2)\", example_font_size, :grey, :center, dim_font)),\n",
    "        (-7, Y_row.h/2+Y_row.y, (\"sample 7\", example_font_size, :grey, :right, dim_font)),\n",
    "        (X_col.w/2+X_col.x, 9, (\"Fish Oil\", example_font_size, :grey, :center, dim_font)),\n",
    "        (-7, Z_row.h/2+Z_row.y, (\"Double Bonds = 2\", example_font_size, :grey, :right, dim_font)),\n",
    "])\n",
    "\n",
    "# Dimensions\n",
    "annotate!([\n",
    "        (Y_box.w+X_box.w+gap+4, Y_box.h/2, (\"n\", dim_font_size, :black, :center, dim_font)), \n",
    "        (Y_box.w+X_box.w+gap+4, B_box.h/2+B_box.y, (\"q\", dim_font_size, :black, :center, dim_font)),\n",
    "        (Z_box.w/2, Y_box.h+Z_box.h-gap-4, (\"m\", dim_font_size, :black, :center, dim_font))\n",
    "])\n",
    "\n",
    "# Horizontal Arrows\n",
    "plot!(\n",
    "    [-6, -1, Inf,-6,-1],\n",
    "    [Y_row.h/2+Y_row.y, Y_row.h/2+Y_row.y, Inf, Z_row.h/2+Z_row.y,Z_row.h/2+Z_row.y],\n",
    "    arrow=true,\n",
    "    color=:grey,\n",
    "    linewidth=1,\n",
    "    label=\"\"\n",
    ")\n",
    "\n",
    "plot!(\n",
    "    [Y_col.w/2+Y_col.x, Y_col.w/2+Y_col.x, Inf, X_col.w/2+X_col.x, X_col.w/2+X_col.x],\n",
    "    [6, 1, Inf,6,1],\n",
    "    arrow=true,\n",
    "    color=:grey,\n",
    "    linewidth=1,\n",
    "    label=\"\"\n",
    ")\n",
    "\n",
    "savefig(\"images/mlmdiagramexample.svg\")\n",
    "pExample\n"
   ]
  },
  {
   "cell_type": "code",
   "execution_count": null,
   "id": "4a7c0a70-dade-4c1f-97cc-062e138e5256",
   "metadata": {},
   "outputs": [],
   "source": []
  }
 ],
 "metadata": {
  "jupytext": {
   "formats": "ipynb,jl:light"
  },
  "kernelspec": {
   "display_name": "Julia 1.8.2",
   "language": "julia",
   "name": "julia-1.8"
  },
  "language_info": {
   "file_extension": ".jl",
   "mimetype": "application/julia",
   "name": "julia",
   "version": "1.8.2"
  }
 },
 "nbformat": 4,
 "nbformat_minor": 5
}
